{
 "cells": [
  {
   "cell_type": "code",
   "execution_count": 6,
   "id": "89d0cc0d",
   "metadata": {},
   "outputs": [
    {
     "name": "stdout",
     "output_type": "stream",
     "text": [
      "Welcome to Rock-Paper-Scissor's Game!\n",
      "Write an option: Rock, Paper or Scissor:\n"
     ]
    },
    {
     "ename": "KeyboardInterrupt",
     "evalue": "Interrupted by user",
     "output_type": "error",
     "traceback": [
      "\u001b[31m---------------------------------------------------------------------------\u001b[39m",
      "\u001b[31mKeyboardInterrupt\u001b[39m                         Traceback (most recent call last)",
      "\u001b[36mCell\u001b[39m\u001b[36m \u001b[39m\u001b[32mIn[6]\u001b[39m\u001b[32m, line 13\u001b[39m\n\u001b[32m     10\u001b[39m \u001b[38;5;28;01mwhile\u001b[39;00m (points_player_human != \u001b[32m3\u001b[39m) \u001b[38;5;129;01mand\u001b[39;00m (points_player_computer != \u001b[32m3\u001b[39m):\n\u001b[32m     11\u001b[39m         \u001b[38;5;28mprint\u001b[39m(\u001b[33m\"\u001b[39m\u001b[33mWrite an option: Rock, Paper or Scissor:\u001b[39m\u001b[33m\"\u001b[39m)\n\u001b[32m---> \u001b[39m\u001b[32m13\u001b[39m         player_human = \u001b[38;5;28;43minput\u001b[39;49m\u001b[43m(\u001b[49m\u001b[33;43m\"\u001b[39;49m\u001b[33;43mType Player 1 option:\u001b[39;49m\u001b[33;43m\"\u001b[39;49m\u001b[43m)\u001b[49m.capitalize()\n\u001b[32m     14\u001b[39m         \u001b[38;5;28mprint\u001b[39m(\u001b[33m\"\u001b[39m\u001b[33mplayer human option: \u001b[39m\u001b[33m\"\u001b[39m, player_human)\n\u001b[32m     16\u001b[39m         \u001b[38;5;28;01mif\u001b[39;00m player_human \u001b[38;5;129;01mnot\u001b[39;00m \u001b[38;5;129;01min\u001b[39;00m options:\n",
      "\u001b[36mFile \u001b[39m\u001b[32m~/Library/Python/3.13/lib/python/site-packages/ipykernel/kernelbase.py:1282\u001b[39m, in \u001b[36mKernel.raw_input\u001b[39m\u001b[34m(self, prompt)\u001b[39m\n\u001b[32m   1280\u001b[39m     msg = \u001b[33m\"\u001b[39m\u001b[33mraw_input was called, but this frontend does not support input requests.\u001b[39m\u001b[33m\"\u001b[39m\n\u001b[32m   1281\u001b[39m     \u001b[38;5;28;01mraise\u001b[39;00m StdinNotImplementedError(msg)\n\u001b[32m-> \u001b[39m\u001b[32m1282\u001b[39m \u001b[38;5;28;01mreturn\u001b[39;00m \u001b[38;5;28;43mself\u001b[39;49m\u001b[43m.\u001b[49m\u001b[43m_input_request\u001b[49m\u001b[43m(\u001b[49m\n\u001b[32m   1283\u001b[39m \u001b[43m    \u001b[49m\u001b[38;5;28;43mstr\u001b[39;49m\u001b[43m(\u001b[49m\u001b[43mprompt\u001b[49m\u001b[43m)\u001b[49m\u001b[43m,\u001b[49m\n\u001b[32m   1284\u001b[39m \u001b[43m    \u001b[49m\u001b[38;5;28;43mself\u001b[39;49m\u001b[43m.\u001b[49m\u001b[43m_parent_ident\u001b[49m\u001b[43m[\u001b[49m\u001b[33;43m\"\u001b[39;49m\u001b[33;43mshell\u001b[39;49m\u001b[33;43m\"\u001b[39;49m\u001b[43m]\u001b[49m\u001b[43m,\u001b[49m\n\u001b[32m   1285\u001b[39m \u001b[43m    \u001b[49m\u001b[38;5;28;43mself\u001b[39;49m\u001b[43m.\u001b[49m\u001b[43mget_parent\u001b[49m\u001b[43m(\u001b[49m\u001b[33;43m\"\u001b[39;49m\u001b[33;43mshell\u001b[39;49m\u001b[33;43m\"\u001b[39;49m\u001b[43m)\u001b[49m\u001b[43m,\u001b[49m\n\u001b[32m   1286\u001b[39m \u001b[43m    \u001b[49m\u001b[43mpassword\u001b[49m\u001b[43m=\u001b[49m\u001b[38;5;28;43;01mFalse\u001b[39;49;00m\u001b[43m,\u001b[49m\n\u001b[32m   1287\u001b[39m \u001b[43m\u001b[49m\u001b[43m)\u001b[49m\n",
      "\u001b[36mFile \u001b[39m\u001b[32m~/Library/Python/3.13/lib/python/site-packages/ipykernel/kernelbase.py:1325\u001b[39m, in \u001b[36mKernel._input_request\u001b[39m\u001b[34m(self, prompt, ident, parent, password)\u001b[39m\n\u001b[32m   1322\u001b[39m \u001b[38;5;28;01mexcept\u001b[39;00m \u001b[38;5;167;01mKeyboardInterrupt\u001b[39;00m:\n\u001b[32m   1323\u001b[39m     \u001b[38;5;66;03m# re-raise KeyboardInterrupt, to truncate traceback\u001b[39;00m\n\u001b[32m   1324\u001b[39m     msg = \u001b[33m\"\u001b[39m\u001b[33mInterrupted by user\u001b[39m\u001b[33m\"\u001b[39m\n\u001b[32m-> \u001b[39m\u001b[32m1325\u001b[39m     \u001b[38;5;28;01mraise\u001b[39;00m \u001b[38;5;167;01mKeyboardInterrupt\u001b[39;00m(msg) \u001b[38;5;28;01mfrom\u001b[39;00m\u001b[38;5;250m \u001b[39m\u001b[38;5;28;01mNone\u001b[39;00m\n\u001b[32m   1326\u001b[39m \u001b[38;5;28;01mexcept\u001b[39;00m \u001b[38;5;167;01mException\u001b[39;00m:\n\u001b[32m   1327\u001b[39m     \u001b[38;5;28mself\u001b[39m.log.warning(\u001b[33m\"\u001b[39m\u001b[33mInvalid Message:\u001b[39m\u001b[33m\"\u001b[39m, exc_info=\u001b[38;5;28;01mTrue\u001b[39;00m)\n",
      "\u001b[31mKeyboardInterrupt\u001b[39m: Interrupted by user"
     ]
    }
   ],
   "source": [
    "#Rock‑Paper‑Scissors Game\n",
    "\n",
    "import random\n",
    "options = ['Rock','Paper','Scissor']\n",
    "print(\"Welcome to Rock-Paper-Scissor's Game!\")\n",
    "points_player_human = 0\n",
    "points_player_computer = 0\n",
    "\n",
    "\n",
    "while (points_player_human != 3) and (points_player_computer != 3):\n",
    "        print(\"Write an option: Rock, Paper or Scissor:\")\n",
    "        \n",
    "        player_human = input(\"Type Player 1 option:\").capitalize()\n",
    "        print(\"player human option: \", player_human)\n",
    "\n",
    "        if player_human not in options:\n",
    "            print(\"Invalid option, please try again\")\n",
    "            continue\n",
    "\n",
    "        player_computer = random.choice(options)\n",
    "        print(\"player computer option: \", player_computer)\n",
    "\n",
    "        if player_human == player_computer:\n",
    "            print(\"It is a draw! Play again!\")\n",
    "            continue\n",
    "\n",
    "        if player_human == \"Rock\":\n",
    "            if player_computer == \"Scissor\":\n",
    "                print(\"Player Human Won!\")\n",
    "                points_player_human = points_player_human+1\n",
    "            else:\n",
    "                print(\"Player Computer Won!\")\n",
    "                points_player_computer = points_player_computer+1\n",
    "\n",
    "        if player_human == \"Scissor\": \n",
    "            if player_computer == \"Paper\":\n",
    "                print(\"Player Human Won!\")\n",
    "                points_player_human = points_player_human+1\n",
    "            else:\n",
    "                print(\"Player Computer Won!\")\n",
    "                points_player_computer = points_player_computer+1\n",
    "            \n",
    "        if player_human == \"Paper\":\n",
    "            if player_computer == \"Rock\":\n",
    "                print(\"Player Human Won!\")\n",
    "                points_player_human = points_player_human+1\n",
    "            else:\n",
    "                print(\"Player Computer Won!\")\n",
    "                points_player_computer = points_player_computer+1\n",
    "\n",
    "        print(\"Human Points:\",points_player_human, \"Computer Points:\",points_player_computer)\n",
    "        if points_player_human == 3:\n",
    "          print(\"Player Human Won!\")\n",
    "        elif points_player_human == 3:\n",
    "            print(\"Player Computer Won\")\n",
    "\n",
    "\n",
    "print(\"Total Player Human Points:\",points_player_human)\n",
    "print(\"Total Player Computer Points:\",points_player_computer)\n",
    "       \n"
   ]
  }
 ],
 "metadata": {
  "kernelspec": {
   "display_name": "Python 3",
   "language": "python",
   "name": "python3"
  },
  "language_info": {
   "codemirror_mode": {
    "name": "ipython",
    "version": 3
   },
   "file_extension": ".py",
   "mimetype": "text/x-python",
   "name": "python",
   "nbconvert_exporter": "python",
   "pygments_lexer": "ipython3",
   "version": "3.13.3"
  }
 },
 "nbformat": 4,
 "nbformat_minor": 5
}
